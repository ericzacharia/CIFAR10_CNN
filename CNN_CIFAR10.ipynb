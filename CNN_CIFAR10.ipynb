{
 "cells": [
  {
   "cell_type": "code",
   "execution_count": null,
   "metadata": {
    "pycharm": {}
   },
   "outputs": [],
   "source": [
    "from IPython.core.display import display, HTML\n",
    "display(HTML(\"<style>.container { width:80% !important; }</style>\"))\n",
    "import time\n",
    "import importlib\n",
    "import numpy as np\n",
    "import pandas as pd\n",
    "import pickle\n",
    "import cnn_model as cnn  \n",
    "import matplotlib.pyplot as plt\n",
    "import matplotlib.image as mpimg\n",
    "importlib.reload(cnn)"
   ]
  },
  {
   "cell_type": "markdown",
   "metadata": {
    "pycharm": {}
   },
   "source": [
    "### CIFAR10 dataset  \n",
    "https://www.cs.toronto.edu/~kriz/cifar.html\n",
    "\n",
    "Label 0 to 9 refers to 0:airplane, 1:automobile, 2:bird, 3:cat, 4:deer, 5:dog, 6:frog, 7:horse, 8:ship, 9:truck\n"
   ]
  },
  {
   "cell_type": "code",
   "execution_count": null,
   "metadata": {
    "pycharm": {}
   },
   "outputs": [],
   "source": [
    "data = np.load('./cifar10_data/sub_data.npz')\n",
    "X = np.float32(data['imgs'])/255.\n",
    "# Reshape the valid image data to (idx, h, w, channel)\n",
    "X = X.reshape(10000, 32, 32, 3)\n",
    "y = np.float32(data['labels'])\n",
    "\n",
    "# for simplicity, let's focus on the first four classes\n",
    "# there are 4000 images in total\n",
    "sub_idx = np.where(y<=3)[0]\n",
    "X = X[sub_idx]\n",
    "y = y[sub_idx]\n",
    "\n",
    "# split in to train an test set\n",
    "train_x, test_x = X[:3000], X[3000:]\n",
    "train_y, test_y = y[:3000], y[3000:]"
   ]
  },
  {
   "cell_type": "code",
   "execution_count": null,
   "metadata": {},
   "outputs": [],
   "source": [
    "# below is what an image looks like\n",
    "print(train_y[0])  # 3:cat\n",
    "imgplot = plt.imshow(train_x[0])"
   ]
  },
  {
   "cell_type": "code",
   "execution_count": null,
   "metadata": {
    "scrolled": false
   },
   "outputs": [],
   "source": [
    "importlib.reload(cnn)\n",
    "model = cnn.CNN(num_labels=4)\n",
    "model.init_params_with_xavier()\n",
    "# ~ 1 hour to train\n",
    "model.fit(train_x, train_y, 0.01, 10)"
   ]
  },
  {
   "cell_type": "code",
   "execution_count": null,
   "metadata": {},
   "outputs": [],
   "source": [
    "accy, loss = model.eval(test_x, test_y)\n",
    "print(\"Test accuracy = %.4f, loss = %.4f\" % (accy, loss))"
   ]
  }
 ],
 "metadata": {
  "anaconda-cloud": {},
  "kernelspec": {
   "display_name": "Python 3",
   "language": "python",
   "name": "python3"
  },
  "language_info": {
   "codemirror_mode": {
    "name": "ipython",
    "version": 3
   },
   "file_extension": ".py",
   "mimetype": "text/x-python",
   "name": "python",
   "nbconvert_exporter": "python",
   "pygments_lexer": "ipython3",
   "version": "3.9.6"
  }
 },
 "nbformat": 4,
 "nbformat_minor": 2
}
